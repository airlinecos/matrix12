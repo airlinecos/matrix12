{
 "cells": [
  {
   "cell_type": "code",
   "execution_count": 1,
   "metadata": {},
   "outputs": [],
   "source": [
    "from sympy import *\n",
    "import numpy as np"
   ]
  },
  {
   "cell_type": "code",
   "execution_count": 2,
   "metadata": {},
   "outputs": [
    {
     "name": "stdout",
     "output_type": "stream",
     "text": [
      "[[ 0.   0.9  0.7  1.6  1.2 -2.   1.  -0.1 -0.8  0.7 -0.1  2.1]\n",
      " [ 0.8  0.1 -0.7  0.1 -1.6 -0.2  1.  -0.2  0.3 -0.5 -1.1  0.6]\n",
      " [ 2.3 -0.2 -1.4  1.5  1.   0.3 -1.7  0.9 -1.6  0.8  0.1 -0.1]\n",
      " [ 1.   0.1  0.2 -2.  -0.3 -1.3 -1.   2.6  0.2  0.   0.4 -0.7]\n",
      " [ 0.1 -0.8 -0.7  0.5  0.5  2.1  0.8  1.8  1.1  0.7  1.4  0.7]\n",
      " [-0.3 -0.   0.5 -0.1 -1.2 -0.8  1.3 -0.4  0.3 -0.7  0.6  0.7]\n",
      " [-0.3 -0.8  0.1 -0.2  0.6 -0.4  0.4  0.9  1.5  0.9  0.9 -0.5]\n",
      " [ 0.   2.   0.1 -0.1  1.1  1.6 -0.8 -1.5  1.8  0.   0.3 -0.7]\n",
      " [ 0.5 -1.7 -1.1  0.6  0.9 -0.3  1.6  1.7  0.6 -0.6 -0.8  0.1]\n",
      " [ 0.2 -0.3 -1.8  1.6 -0.3 -0.3  0.2  0.5 -0.7 -0.4  0.2 -0.2]\n",
      " [-1.2  1.  -0.8 -0.4  1.2 -0.4 -0.1 -0.4 -1.9 -0.4 -0.5 -1.2]\n",
      " [-0.8  0.5 -1.4  0.2  0.1  0.4  2.3 -0.1  0.7  0.4 -1.   0.5]]\n"
     ]
    }
   ],
   "source": [
    "np.random.seed(sum(map(ord,\"matrix\")))\n",
    "m = np.random.randn(1,144).round(1).reshape(12,12)\n",
    "d = np.linalg.det(m)\n",
    "print(m)"
   ]
  },
  {
   "cell_type": "code",
   "execution_count": 3,
   "metadata": {},
   "outputs": [
    {
     "name": "stdout",
     "output_type": "stream",
     "text": [
      "-2660.4126607476733\n"
     ]
    }
   ],
   "source": [
    "print(d)"
   ]
  },
  {
   "cell_type": "code",
   "execution_count": 4,
   "metadata": {},
   "outputs": [
    {
     "name": "stdout",
     "output_type": "stream",
     "text": [
      "Matrix([[0.0, 0.900000000000000, 0.700000000000000, 1.60000000000000, 1.20000000000000, -2.00000000000000, 1.00000000000000, -0.100000000000000, -0.800000000000000, 0.700000000000000, -0.100000000000000, 2.10000000000000], [0.800000000000000, 0.100000000000000, -0.700000000000000, 0.100000000000000, -1.60000000000000, -0.200000000000000, 1.00000000000000, -0.200000000000000, 0.300000000000000, -0.500000000000000, -1.10000000000000, 0.600000000000000], [2.30000000000000, -0.200000000000000, -1.40000000000000, 1.50000000000000, 1.00000000000000, 0.300000000000000, -1.70000000000000, 0.900000000000000, -1.60000000000000, 0.800000000000000, 0.100000000000000, -0.100000000000000], [1.00000000000000, 0.100000000000000, 0.200000000000000, -2.00000000000000, -0.300000000000000, -1.30000000000000, -1.00000000000000, 2.60000000000000, 0.200000000000000, 0.0, 0.400000000000000, -0.700000000000000], [0.100000000000000, -0.800000000000000, -0.700000000000000, 0.500000000000000, 0.500000000000000, 2.10000000000000, 0.800000000000000, 1.80000000000000, 1.10000000000000, 0.700000000000000, 1.40000000000000, 0.700000000000000], [-0.300000000000000, 0.0, 0.500000000000000, -0.100000000000000, -1.20000000000000, -0.800000000000000, 1.30000000000000, -0.400000000000000, 0.300000000000000, -0.700000000000000, 0.600000000000000, 0.700000000000000], [-0.300000000000000, -0.800000000000000, 0.100000000000000, -0.200000000000000, 0.600000000000000, -0.400000000000000, 0.400000000000000, 0.900000000000000, 1.50000000000000, 0.900000000000000, 0.900000000000000, -0.500000000000000], [0.0, 2.00000000000000, 0.100000000000000, -0.100000000000000, 1.10000000000000, 1.60000000000000, -0.800000000000000, -1.50000000000000, 1.80000000000000, 0.0, 0.300000000000000, -0.700000000000000], [0.500000000000000, -1.70000000000000, -1.10000000000000, 0.600000000000000, 0.900000000000000, -0.300000000000000, 1.60000000000000, 1.70000000000000, 0.600000000000000, -0.600000000000000, -0.800000000000000, 0.100000000000000], [0.200000000000000, -0.300000000000000, -1.80000000000000, 1.60000000000000, -0.300000000000000, -0.300000000000000, 0.200000000000000, 0.500000000000000, -0.700000000000000, -0.400000000000000, 0.200000000000000, -0.200000000000000], [-1.20000000000000, 1.00000000000000, -0.800000000000000, -0.400000000000000, 1.20000000000000, -0.400000000000000, -0.100000000000000, -0.400000000000000, -1.90000000000000, -0.400000000000000, -0.500000000000000, -1.20000000000000], [-0.800000000000000, 0.500000000000000, -1.40000000000000, 0.200000000000000, 0.100000000000000, 0.400000000000000, 2.30000000000000, -0.100000000000000, 0.700000000000000, 0.400000000000000, -1.00000000000000, 0.500000000000000]])\n"
     ]
    }
   ],
   "source": [
    "M = Matrix(m)\n",
    "D = det(M)\n",
    "print(M)"
   ]
  },
  {
   "cell_type": "code",
   "execution_count": 5,
   "metadata": {},
   "outputs": [
    {
     "name": "stdout",
     "output_type": "stream",
     "text": [
      "-2660.41266074767\n"
     ]
    }
   ],
   "source": [
    "print(D)"
   ]
  },
  {
   "cell_type": "code",
   "execution_count": 6,
   "metadata": {},
   "outputs": [],
   "source": [
    "import time"
   ]
  },
  {
   "cell_type": "code",
   "execution_count": 7,
   "metadata": {},
   "outputs": [
    {
     "name": "stdout",
     "output_type": "stream",
     "text": [
      "0.0029184818267822266 secondi\n"
     ]
    }
   ],
   "source": [
    "t1 = time.time()\n",
    "i = np.linalg.inv(m)\n",
    "t2 = time.time()\n",
    "delta1 = t2 - t1\n",
    "print(str(delta1) + ' secondi')"
   ]
  },
  {
   "cell_type": "code",
   "execution_count": 8,
   "metadata": {},
   "outputs": [
    {
     "name": "stdout",
     "output_type": "stream",
     "text": [
      "0.0828096866607666 secondi\n"
     ]
    }
   ],
   "source": [
    "t3 = time.time()\n",
    "I = M.inv()\n",
    "t4 = time.time()\n",
    "delta2 = t4 - t3\n",
    "print(str(delta2) + ' secondi')"
   ]
  },
  {
   "cell_type": "code",
   "execution_count": 9,
   "metadata": {},
   "outputs": [
    {
     "name": "stdout",
     "output_type": "stream",
     "text": [
      "11.7 µs ± 280 ns per loop (mean ± std. dev. of 7 runs, 100000 loops each)\n"
     ]
    }
   ],
   "source": [
    "%timeit i2 = np.linalg.inv(m)"
   ]
  },
  {
   "cell_type": "code",
   "execution_count": 10,
   "metadata": {},
   "outputs": [
    {
     "name": "stdout",
     "output_type": "stream",
     "text": [
      "75.2 ms ± 1.82 ms per loop (mean ± std. dev. of 7 runs, 10 loops each)\n"
     ]
    }
   ],
   "source": [
    "%timeit I = M.inv()"
   ]
  },
  {
   "cell_type": "code",
   "execution_count": 11,
   "metadata": {},
   "outputs": [],
   "source": [
    "init_printing(use_latex=True)"
   ]
  },
  {
   "cell_type": "code",
   "execution_count": 12,
   "metadata": {},
   "outputs": [
    {
     "data": {
      "image/png": "[encoded data removed]",
      "text/latex": [
       "$$\\left[\\begin{array}{cccccccccccc}0.0 & 0.9 & 0.7 & 1.6 & 1.2 & -2.0 & 1.0 & -0.1 & -0.8 & 0.7 & -0.1 & 2.1\\\\0.8 & 0.1 & -0.7 & 0.1 & -1.6 & -0.2 & 1.0 & -0.2 & 0.3 & -0.5 & -1.1 & 0.6\\\\2.3 & -0.2 & -1.4 & 1.5 & 1.0 & 0.3 & -1.7 & 0.9 & -1.6 & 0.8 & 0.1 & -0.1\\\\1.0 & 0.1 & 0.2 & -2.0 & -0.3 & -1.3 & -1.0 & 2.6 & 0.2 & 0.0 & 0.4 & -0.7\\\\0.1 & -0.8 & -0.7 & 0.5 & 0.5 & 2.1 & 0.8 & 1.8 & 1.1 & 0.7 & 1.4 & 0.7\\\\-0.3 & 0.0 & 0.5 & -0.1 & -1.2 & -0.8 & 1.3 & -0.4 & 0.3 & -0.7 & 0.6 & 0.7\\\\-0.3 & -0.8 & 0.1 & -0.2 & 0.6 & -0.4 & 0.4 & 0.9 & 1.5 & 0.9 & 0.9 & -0.5\\\\0.0 & 2.0 & 0.1 & -0.1 & 1.1 & 1.6 & -0.8 & -1.5 & 1.8 & 0.0 & 0.3 & -0.7\\\\0.5 & -1.7 & -1.1 & 0.6 & 0.9 & -0.3 & 1.6 & 1.7 & 0.6 & -0.6 & -0.8 & 0.1\\\\0.2 & -0.3 & -1.8 & 1.6 & -0.3 & -0.3 & 0.2 & 0.5 & -0.7 & -0.4 & 0.2 & -0.2\\\\-1.2 & 1.0 & -0.8 & -0.4 & 1.2 & -0.4 & -0.1 & -0.4 & -1.9 & -0.4 & -0.5 & -1.2\\\\-0.8 & 0.5 & -1.4 & 0.2 & 0.1 & 0.4 & 2.3 & -0.1 & 0.7 & 0.4 & -1.0 & 0.5\\end{array}\\right]$$"
      ],
      "text/plain": [
       "⎡0.0   0.9   0.7   1.6   1.2   -2.0  1.0   -0.1  -0.8  0.7   -0.1  2.1 ⎤\n",
       "⎢                                                                      ⎥\n",
       "⎢0.8   0.1   -0.7  0.1   -1.6  -0.2  1.0   -0.2  0.3   -0.5  -1.1  0.6 ⎥\n",
       "⎢                                                                      ⎥\n",
       "⎢2.3   -0.2  -1.4  1.5   1.0   0.3   -1.7  0.9   -1.6  0.8   0.1   -0.1⎥\n",
       "⎢                                                                      ⎥\n",
       "⎢1.0   0.1   0.2   -2.0  -0.3  -1.3  -1.0  2.6   0.2   0.0   0.4   -0.7⎥\n",
       "⎢                                                                      ⎥\n",
       "⎢0.1   -0.8  -0.7  0.5   0.5   2.1   0.8   1.8   1.1   0.7   1.4   0.7 ⎥\n",
       "⎢                                                                      ⎥\n",
       "⎢-0.3  0.0   0.5   -0.1  -1.2  -0.8  1.3   -0.4  0.3   -0.7  0.6   0.7 ⎥\n",
       "⎢                                                                      ⎥\n",
       "⎢-0.3  -0.8  0.1   -0.2  0.6   -0.4  0.4   0.9   1.5   0.9   0.9   -0.5⎥\n",
       "⎢                                                                      ⎥\n",
       "⎢0.0   2.0   0.1   -0.1  1.1   1.6   -0.8  -1.5  1.8   0.0   0.3   -0.7⎥\n",
       "⎢                                                                      ⎥\n",
       "⎢0.5   -1.7  -1.1  0.6   0.9   -0.3  1.6   1.7   0.6   -0.6  -0.8  0.1 ⎥\n",
       "⎢                                                                      ⎥\n",
       "⎢0.2   -0.3  -1.8  1.6   -0.3  -0.3  0.2   0.5   -0.7  -0.4  0.2   -0.2⎥\n",
       "⎢                                                                      ⎥\n",
       "⎢-1.2  1.0   -0.8  -0.4  1.2   -0.4  -0.1  -0.4  -1.9  -0.4  -0.5  -1.2⎥\n",
       "⎢                                                                      ⎥\n",
       "⎣-0.8  0.5   -1.4  0.2   0.1   0.4   2.3   -0.1  0.7   0.4   -1.0  0.5 ⎦"
      ]
     },
     "execution_count": 12,
     "metadata": {},
     "output_type": "execute_result"
    }
   ],
   "source": [
    "M"
   ]
  },
  {
   "cell_type": "code",
   "execution_count": null,
   "metadata": {},
   "outputs": [],
   "source": []
  }
 ],
 "metadata": {
  "kernelspec": {
   "display_name": "Python 3",
   "language": "python",
   "name": "python3"
  },
  "language_info": {
   "codemirror_mode": {
    "name": "ipython",
    "version": 3
   },
   "file_extension": ".py",
   "mimetype": "text/x-python",
   "name": "python",
   "nbconvert_exporter": "python",
   "pygments_lexer": "ipython3",
   "version": "3.6.5"
  }
 },
 "nbformat": 4,
 "nbformat_minor": 2
}
